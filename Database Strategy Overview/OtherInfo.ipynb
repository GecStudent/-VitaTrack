{
 "cells": [
  {
   "cell_type": "markdown",
   "metadata": {},
   "source": [
    "# Database Split Rationale"
   ]
  },
  {
   "cell_type": "markdown",
   "metadata": {},
   "source": [
    "## PostgreSQL for:\n",
    "\n",
    "### 1. **User Data & Authentication**\n",
    "\n",
    "1. Structured data with fixed schema\n",
    "2. ACID compliance for critical user information\n",
    "3. Strong referential integrity for user relationships\n",
    "4. Secure transactions for authentication operations\n",
    "\n",
    "\n",
    "\n",
    "### 2. **Logging & Tracking Data**\n",
    "\n",
    "1. Time-series data with consistent structure\n",
    "2. Relational queries for user activity\n",
    "3. Transaction support for data integrity\n",
    "4. Complex joins between related activities\n",
    "\n",
    "\n",
    "\n",
    "### 3. **Goals & Progress**\n",
    "\n",
    "1. Structured data with clear relationships\n",
    "2. Consistent schema for tracking progress\n",
    "3. Transaction support for updates\n",
    "4. Foreign key constraints for data integrity"
   ]
  },
  {
   "cell_type": "markdown",
   "metadata": {},
   "source": [
    "## MongoDB for:\n",
    "\n",
    "## 1. **Food Database**\n",
    "\n",
    "1. Varying attributes across different food types\n",
    "2. Flexible schema for different nutrition profiles\n",
    "3. Large dataset with complex nested structures\n",
    "4. Text search capabilities for food lookup\n",
    "5. Easy updates to food database without migrations\n",
    "\n",
    "\n",
    "\n",
    "## 2. **Recipes & Custom Foods**\n",
    "\n",
    "1. Varying ingredients and preparation steps\n",
    "2. Nested arrays and objects for ingredients\n",
    "3. Flexible schema for different recipe types\n",
    "4. Rich text and media content\n",
    "\n",
    "\n",
    "\n",
    "## 3. **Aggregated Analytics**\n",
    "\n",
    "1. Denormalized data for reporting\n",
    "2. Flexible schema for different analysis types\n",
    "3. Document-oriented structure for complex metrics\n",
    "4. Efficient storage of pre-calculated statistics"
   ]
  },
  {
   "cell_type": "markdown",
   "metadata": {},
   "source": [
    "## Performance Optimization Strategies\n",
    "\n",
    "### PostgreSQL Optimization\n",
    "\n",
    "## 1. **Partitioning**\n",
    "\n",
    "1. Partition time-series tables (weight_logs, meal_logs, workout_logs) by date ranges\n",
    "2. Example: Partition by month for recent data, by year for older data"
   ]
  },
  {
   "cell_type": "code",
   "execution_count": null,
   "metadata": {
    "vscode": {
     "languageId": "plaintext"
    }
   },
   "outputs": [],
   "source": [
    "# SQL file\n",
    "\n",
    "CREATE TABLE weight_logs (\n",
    "    id UUID NOT NULL,\n",
    "    user_id UUID NOT NULL,\n",
    "    weight_kg NUMERIC(5,2) NOT NULL,\n",
    "    log_date DATE NOT NULL,\n",
    "    notes TEXT,\n",
    "    created_at TIMESTAMP WITH TIME ZONE DEFAULT NOW()\n",
    ") PARTITION BY RANGE (log_date);\n",
    "\n",
    "CREATE TABLE weight_logs_current_month PARTITION OF weight_logs\n",
    "    FOR VALUES FROM ('2023-05-01') TO ('2023-06-01');\n",
    "\n",
    "CREATE TABLE weight_logs_previous_months PARTITION OF weight_logs\n",
    "    FOR VALUES FROM ('2022-01-01') TO ('2023-05-01');"
   ]
  },
  {
   "cell_type": "markdown",
   "metadata": {},
   "source": [
    "## 2. **Materialized Views**\n",
    "\n",
    "- Create materialized views for common analytics queries\n",
    "- Refresh on schedule or after significant data changes"
   ]
  },
  {
   "cell_type": "code",
   "execution_count": null,
   "metadata": {
    "vscode": {
     "languageId": "plaintext"
    }
   },
   "outputs": [],
   "source": [
    "# SQL file\n",
    "\n",
    "CREATE TABLE weight_logs (\n",
    "    id UUID NOT NULL,\n",
    "    user_id UUID NOT NULL,\n",
    "    weight_kg NUMERIC(5,2) NOT NULL,\n",
    "    log_date DATE NOT NULL,\n",
    "    notes TEXT,\n",
    "    created_at TIMESTAMP WITH TIME ZONE DEFAULT NOW()\n",
    ") PARTITION BY RANGE (log_date);\n",
    "\n",
    "CREATE TABLE weight_logs_current_month PARTITION OF weight_logs\n",
    "    FOR VALUES FROM ('2023-05-01') TO ('2023-06-01');\n",
    "\n",
    "CREATE TABLE weight_logs_previous_months PARTITION OF weight_logs\n",
    "    FOR VALUES FROM ('2022-01-01') TO ('2023-05-01');"
   ]
  },
  {
   "cell_type": "markdown",
   "metadata": {},
   "source": [
    "## 3.  **Composite Indexes**\n",
    "\n",
    "- Create composite indexes for common query patterns"
   ]
  },
  {
   "cell_type": "code",
   "execution_count": null,
   "metadata": {
    "vscode": {
     "languageId": "plaintext"
    }
   },
   "outputs": [],
   "source": [
    "# SQL File\n",
    "\n",
    "-- For queries that filter by user and date range\n",
    "CREATE INDEX idx_meal_logs_user_date_meal_type ON meal_logs(user_id, meal_time, meal_type);\n",
    "\n",
    "-- For queries that join workout_exercises with exercises\n",
    "CREATE INDEX idx_workout_exercises_workout_exercise ON workout_exercises(workout_log_id, exercise_id);"
   ]
  },
  {
   "cell_type": "markdown",
   "metadata": {},
   "source": [
    "# MongoDB Optimization\n",
    "\n",
    "##  1. **Compound Indexes**\n",
    "\n",
    "1. Create compound indexes for common query patterns"
   ]
  },
  {
   "cell_type": "code",
   "execution_count": null,
   "metadata": {
    "vscode": {
     "languageId": "plaintext"
    }
   },
   "outputs": [],
   "source": [
    "# JS File\n",
    "\n",
    "// For queries that search foods by name within categories\n",
    "db.foods.createIndex({ \"categories\": 1, \"name\": 1 });\n",
    "\n",
    "// For queries that filter recipes by author and categories\n",
    "db.recipes.createIndex({ \"author_id\": 1, \"categories\": 1 });"
   ]
  },
  {
   "cell_type": "markdown",
   "metadata": {},
   "source": [
    "## 2. **Covered Queries**\n",
    "\n",
    "- Design indexes to cover common queries"
   ]
  },
  {
   "cell_type": "code",
   "execution_count": null,
   "metadata": {
    "vscode": {
     "languageId": "plaintext"
    }
   },
   "outputs": [],
   "source": [
    "# JS File\n",
    "\n",
    "// For queries that only need name and nutrition info\n",
    "db.foods.createIndex({ \n",
    "    \"name\": 1, \n",
    "    \"nutrition_per_100g.calories\": 1,\n",
    "    \"nutrition_per_100g.protein_g\": 1,\n",
    "    \"nutrition_per_100g.carbs_g\": 1,\n",
    "    \"nutrition_per_100g.fat_g\": 1\n",
    "});"
   ]
  },
  {
   "cell_type": "markdown",
   "metadata": {},
   "source": [
    "## 3. **Aggregation Pipeline Optimization**\n",
    "\n",
    "- Use indexes in aggregation stages\n",
    "- Limit document size in early stages"
   ]
  },
  {
   "cell_type": "code",
   "execution_count": null,
   "metadata": {
    "vscode": {
     "languageId": "plaintext"
    }
   },
   "outputs": [],
   "source": [
    "# JS FIle\n",
    "\n",
    "// Example of optimized aggregation for user nutrition trends\n",
    "db.nutrition_logs.aggregate([\n",
    "    { $match: { user_id: \"user123\" } },  // Uses index on user_id\n",
    "    { $sort: { date: -1 } },             // Uses index on date\n",
    "    { $limit: 30 },                      // Limits documents early\n",
    "    { $project: {                        // Projects only needed fields\n",
    "        date: 1,\n",
    "        \"daily_totals.calories\": 1,\n",
    "        \"daily_totals.protein_g\": 1,\n",
    "        \"daily_totals.carbs_g\": 1,\n",
    "        \"daily_totals.fat_g\": 1\n",
    "    }}\n",
    "]);"
   ]
  },
  {
   "cell_type": "markdown",
   "metadata": {},
   "source": [
    "# Data Synchronization Strategy\n",
    "\n",
    "## To maintain consistency between PostgreSQL and MongoDB:\n",
    "\n",
    "## 1. **Unique Identifiers**\n",
    "\n",
    "1. Use UUIDs as primary keys in PostgreSQL\n",
    "2. Reference these UUIDs in MongoDB documents\n",
    "3. Example: meal_items in PostgreSQL references food_id in MongoDB\n",
    "\n",
    "\n",
    "\n",
    "## 2. **Application-Level Transactions**\n",
    "\n",
    "1. Implement two-phase commit pattern for operations spanning both databases\n",
    "2. Use compensating transactions for rollback\n",
    "\n",
    "\n",
    "\n",
    "## 3. **Change Data Capture**\n",
    "\n",
    "1. Use PostgreSQL logical replication to capture changes\n",
    "2. Process changes to update corresponding MongoDB documents\n",
    "3. Example: When a meal_log is created in PostgreSQL, update nutrition_logs in MongoDB\n",
    "\n",
    "\n",
    "\n",
    "## 4. **Periodic Reconciliation**\n",
    "\n",
    "1. Run scheduled jobs to verify data consistency\n",
    "2. Repair inconsistencies automatically or flag for review\n",
    "\n",
    "\n",
    "\n",
    "\n",
    "\n",
    "### Backup and Recovery Strategy\n",
    "\n",
    "## 1. **PostgreSQL Backup**\n",
    "\n",
    "1. Daily full backups using pg_dump\n",
    "2. Continuous WAL archiving for point-in-time recovery\n",
    "3. Retention policy: 30 days of daily backups, 12 months of monthly backups\n",
    "\n",
    "\n",
    "\n",
    "## 2. **MongoDB Backup**\n",
    "\n",
    "1. Daily full backups using mongodump\n",
    "2. Continuous oplog tailing for point-in-time recovery\n",
    "3. Retention policy: 30 days of daily backups, 12 months of monthly backups\n",
    "\n",
    "\n",
    "\n",
    "## 3. **Cross-Database Consistency**\n",
    "\n",
    "1. Coordinate backups between PostgreSQL and MongoDB\n",
    "2. Document reference points between databases\n",
    "3. Test recovery procedures regularly"
   ]
  }
 ],
 "metadata": {
  "language_info": {
   "name": "python"
  }
 },
 "nbformat": 4,
 "nbformat_minor": 2
}
