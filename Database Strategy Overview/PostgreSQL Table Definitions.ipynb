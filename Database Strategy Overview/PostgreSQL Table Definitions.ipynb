{
 "cells": [
  {
   "cell_type": "markdown",
   "metadata": {},
   "source": [
    "# PostgreSQL Schema Design\n"
   ]
  },
  {
   "cell_type": "markdown",
   "metadata": {},
   "source": [
    "## Entity Relationship Diagram\n",
    "[postgresql-schema (1).mermaid](<postgresql-schema (1).mermaid>)"
   ]
  },
  {
   "cell_type": "markdown",
   "metadata": {},
   "source": [
    "# PostgreSQL Table Definitions\n",
    "## (SQl Files)"
   ]
  },
  {
   "cell_type": "markdown",
   "metadata": {},
   "source": [
    "## 1. Users and Authentication"
   ]
  },
  {
   "cell_type": "code",
   "execution_count": null,
   "metadata": {
    "vscode": {
     "languageId": "plaintext"
    }
   },
   "outputs": [],
   "source": [
    "CREATE TABLE users (\n",
    "    id UUID PRIMARY KEY DEFAULT gen_random_uuid(),\n",
    "    email VARCHAR(255) NOT NULL UNIQUE,\n",
    "    password_hash VARCHAR(255),\n",
    "    first_name VARCHAR(100),\n",
    "    last_name VARCHAR(100),\n",
    "    birth_date DATE,\n",
    "    gender VARCHAR(20),\n",
    "    height_cm NUMERIC(5,2),\n",
    "    activity_level VARCHAR(20),\n",
    "    preferences JSONB DEFAULT '{}',\n",
    "    created_at TIMESTAMP WITH TIME ZONE DEFAULT NOW(),\n",
    "    updated_at TIMESTAMP WITH TIME ZONE DEFAULT NOW()\n",
    ");\n",
    "\n",
    "CREATE TABLE user_auth (\n",
    "    id UUID PRIMARY KEY DEFAULT gen_random_uuid(),\n",
    "    user_id UUID NOT NULL REFERENCES users(id) ON DELETE CASCADE,\n",
    "    provider VARCHAR(50) NOT NULL,\n",
    "    provider_id VARCHAR(255) NOT NULL,\n",
    "    provider_data JSONB DEFAULT '{}',\n",
    "    mfa_enabled BOOLEAN DEFAULT FALSE,\n",
    "    mfa_secret VARCHAR(255),\n",
    "    created_at TIMESTAMP WITH TIME ZONE DEFAULT NOW(),\n",
    "    updated_at TIMESTAMP WITH TIME ZONE DEFAULT NOW(),\n",
    "    UNIQUE(provider, provider_id)\n",
    ");"
   ]
  },
  {
   "cell_type": "markdown",
   "metadata": {},
   "source": [
    "## 2. Physical Metrics"
   ]
  },
  {
   "cell_type": "code",
   "execution_count": null,
   "metadata": {
    "vscode": {
     "languageId": "plaintext"
    }
   },
   "outputs": [],
   "source": [
    "CREATE TABLE weight_logs (\n",
    "    id UUID PRIMARY KEY DEFAULT gen_random_uuid(),\n",
    "    user_id UUID NOT NULL REFERENCES users(id) ON DELETE CASCADE,\n",
    "    weight_kg NUMERIC(5,2) NOT NULL,\n",
    "    log_date DATE NOT NULL,\n",
    "    notes TEXT,\n",
    "    created_at TIMESTAMP WITH TIME ZONE DEFAULT NOW()\n",
    ");\n",
    "\n",
    "CREATE TABLE body_measurements (\n",
    "    id UUID PRIMARY KEY DEFAULT gen_random_uuid(),\n",
    "    user_id UUID NOT NULL REFERENCES users(id) ON DELETE CASCADE,\n",
    "    chest_cm NUMERIC(5,2),\n",
    "    waist_cm NUMERIC(5,2),\n",
    "    hips_cm NUMERIC(5,2),\n",
    "    biceps_cm NUMERIC(5,2),\n",
    "    thighs_cm NUMERIC(5,2),\n",
    "    log_date DATE NOT NULL,\n",
    "    created_at TIMESTAMP WITH TIME ZONE DEFAULT NOW()\n",
    ");"
   ]
  },
  {
   "cell_type": "markdown",
   "metadata": {},
   "source": [
    "## 3. Goals"
   ]
  },
  {
   "cell_type": "code",
   "execution_count": null,
   "metadata": {
    "vscode": {
     "languageId": "plaintext"
    }
   },
   "outputs": [],
   "source": [
    "CREATE TABLE goals (\n",
    "    id UUID PRIMARY KEY DEFAULT gen_random_uuid(),\n",
    "    user_id UUID NOT NULL REFERENCES users(id) ON DELETE CASCADE,\n",
    "    goal_type VARCHAR(50) NOT NULL,\n",
    "    target_value NUMERIC(8,2) NOT NULL,\n",
    "    starting_value NUMERIC(8,2),\n",
    "    start_date DATE NOT NULL,\n",
    "    target_date DATE,\n",
    "    status VARCHAR(20) DEFAULT 'active',\n",
    "    created_at TIMESTAMP WITH TIME ZONE DEFAULT NOW(),\n",
    "    updated_at TIMESTAMP WITH TIME ZONE DEFAULT NOW()\n",
    ");"
   ]
  },
  {
   "cell_type": "markdown",
   "metadata": {},
   "source": [
    "## 4. Meal Tracking"
   ]
  },
  {
   "cell_type": "code",
   "execution_count": null,
   "metadata": {
    "vscode": {
     "languageId": "plaintext"
    }
   },
   "outputs": [],
   "source": [
    "CREATE TABLE meal_logs (\n",
    "    id UUID PRIMARY KEY DEFAULT gen_random_uuid(),\n",
    "    user_id UUID NOT NULL REFERENCES users(id) ON DELETE CASCADE,\n",
    "    meal_type VARCHAR(50) NOT NULL,\n",
    "    meal_time TIMESTAMP WITH TIME ZONE NOT NULL,\n",
    "    notes TEXT,\n",
    "    created_at TIMESTAMP WITH TIME ZONE DEFAULT NOW()\n",
    ");\n",
    "\n",
    "CREATE TABLE meal_items (\n",
    "    id UUID PRIMARY KEY DEFAULT gen_random_uuid(),\n",
    "    meal_log_id UUID NOT NULL REFERENCES meal_logs(id) ON DELETE CASCADE,\n",
    "    food_id VARCHAR(255) NOT NULL,  -- References MongoDB food collection\n",
    "    serving_size NUMERIC(8,2) NOT NULL,\n",
    "    serving_unit VARCHAR(50) NOT NULL,\n",
    "    created_at TIMESTAMP WITH TIME ZONE DEFAULT NOW()\n",
    ");"
   ]
  },
  {
   "cell_type": "markdown",
   "metadata": {},
   "source": [
    "## 5. Exercise Tracking"
   ]
  },
  {
   "cell_type": "code",
   "execution_count": null,
   "metadata": {
    "vscode": {
     "languageId": "plaintext"
    }
   },
   "outputs": [],
   "source": [
    "CREATE TABLE exercise_categories (\n",
    "    id UUID PRIMARY KEY DEFAULT gen_random_uuid(),\n",
    "    name VARCHAR(100) NOT NULL UNIQUE,\n",
    "    description TEXT,\n",
    "    created_at TIMESTAMP WITH TIME ZONE DEFAULT NOW(),\n",
    "    updated_at TIMESTAMP WITH TIME ZONE DEFAULT NOW()\n",
    ");\n",
    "\n",
    "CREATE TABLE exercises (\n",
    "    id UUID PRIMARY KEY DEFAULT gen_random_uuid(),\n",
    "    category_id UUID REFERENCES exercise_categories(id) ON DELETE SET NULL,\n",
    "    name VARCHAR(255) NOT NULL,\n",
    "    muscle_group VARCHAR(100),\n",
    "    equipment VARCHAR(100),\n",
    "    difficulty VARCHAR(20),\n",
    "    instructions TEXT,\n",
    "    calories_per_min NUMERIC(5,2),\n",
    "    met_value NUMERIC(4,1),\n",
    "    created_at TIMESTAMP WITH TIME ZONE DEFAULT NOW(),\n",
    "    updated_at TIMESTAMP WITH TIME ZONE DEFAULT NOW()\n",
    ");\n",
    "\n",
    "CREATE TABLE workout_logs (\n",
    "    id UUID PRIMARY KEY DEFAULT gen_random_uuid(),\n",
    "    user_id UUID NOT NULL REFERENCES users(id) ON DELETE CASCADE,\n",
    "    name VARCHAR(255),\n",
    "    start_time TIMESTAMP WITH TIME ZONE NOT NULL,\n",
    "    end_time TIMESTAMP WITH TIME ZONE,\n",
    "    total_calories INTEGER,\n",
    "    notes TEXT,\n",
    "    created_at TIMESTAMP WITH TIME ZONE DEFAULT NOW()\n",
    ");\n",
    "\n",
    "CREATE TABLE workout_exercises (\n",
    "    id UUID PRIMARY KEY DEFAULT gen_random_uuid(),\n",
    "    workout_log_id UUID NOT NULL REFERENCES workout_logs(id) ON DELETE CASCADE,\n",
    "    exercise_id UUID NOT NULL REFERENCES exercises(id) ON DELETE RESTRICT,\n",
    "    sets INTEGER,\n",
    "    reps INTEGER,\n",
    "    weight_kg NUMERIC(6,2),\n",
    "    duration_seconds INTEGER,\n",
    "    distance_km NUMERIC(6,2),\n",
    "    calories_burned INTEGER,\n",
    "    notes TEXT,\n",
    "    created_at TIMESTAMP WITH TIME ZONE DEFAULT NOW()\n",
    ");"
   ]
  },
  {
   "cell_type": "markdown",
   "metadata": {},
   "source": [
    "## 6. Water Intake"
   ]
  },
  {
   "cell_type": "code",
   "execution_count": null,
   "metadata": {
    "vscode": {
     "languageId": "plaintext"
    }
   },
   "outputs": [],
   "source": [
    "CREATE TABLE water_logs (\n",
    "    id UUID PRIMARY KEY DEFAULT gen_random_uuid(),\n",
    "    user_id UUID NOT NULL REFERENCES users(id) ON DELETE CASCADE,\n",
    "    amount_ml INTEGER NOT NULL,\n",
    "    log_time TIMESTAMP WITH TIME ZONE NOT NULL,\n",
    "    created_at TIMESTAMP WITH TIME ZONE DEFAULT NOW()\n",
    ");"
   ]
  },
  {
   "cell_type": "markdown",
   "metadata": {},
   "source": [
    "## 7. Sleep Tracking"
   ]
  },
  {
   "cell_type": "code",
   "execution_count": null,
   "metadata": {
    "vscode": {
     "languageId": "plaintext"
    }
   },
   "outputs": [],
   "source": [
    "CREATE TABLE sleep_logs (\n",
    "    id UUID PRIMARY KEY DEFAULT gen_random_uuid(),\n",
    "    user_id UUID NOT NULL REFERENCES users(id) ON DELETE CASCADE,\n",
    "    sleep_start TIMESTAMP WITH TIME ZONE NOT NULL,\n",
    "    sleep_end TIMESTAMP WITH TIME ZONE NOT NULL,\n",
    "    duration_minutes INTEGER NOT NULL,\n",
    "    quality_score INTEGER,\n",
    "    sleep_stages JSONB DEFAULT '{}',\n",
    "    notes TEXT,\n",
    "    created_at TIMESTAMP WITH TIME ZONE DEFAULT NOW()\n",
    ");"
   ]
  },
  {
   "cell_type": "markdown",
   "metadata": {},
   "source": [
    "## 8. Daily Targets"
   ]
  },
  {
   "cell_type": "code",
   "execution_count": null,
   "metadata": {
    "vscode": {
     "languageId": "plaintext"
    }
   },
   "outputs": [],
   "source": [
    "CREATE TABLE user_daily_targets (\n",
    "    id UUID PRIMARY KEY DEFAULT gen_random_uuid(),\n",
    "    user_id UUID NOT NULL REFERENCES users(id) ON DELETE CASCADE,\n",
    "    calories INTEGER,\n",
    "    protein_g INTEGER,\n",
    "    carbs_g INTEGER,\n",
    "    fat_g INTEGER,\n",
    "    fiber_g INTEGER,\n",
    "    water_ml INTEGER,\n",
    "    steps INTEGER,\n",
    "    active_minutes INTEGER,\n",
    "    created_at TIMESTAMP WITH TIME ZONE DEFAULT NOW(),\n",
    "    updated_at TIMESTAMP WITH TIME ZONE DEFAULT NOW(),\n",
    "    UNIQUE(user_id)\n",
    ");"
   ]
  },
  {
   "cell_type": "markdown",
   "metadata": {},
   "source": [
    "## PostgreSQL Indexes"
   ]
  },
  {
   "cell_type": "code",
   "execution_count": null,
   "metadata": {
    "vscode": {
     "languageId": "plaintext"
    }
   },
   "outputs": [],
   "source": [
    "-- User lookup indexes\n",
    "CREATE INDEX idx_users_email ON users(email);\n",
    "\n",
    "-- Date-based lookup indexes\n",
    "CREATE INDEX idx_weight_logs_user_date ON weight_logs(user_id, log_date);\n",
    "CREATE INDEX idx_body_measurements_user_date ON body_measurements(user_id, log_date);\n",
    "CREATE INDEX idx_meal_logs_user_time ON meal_logs(user_id, meal_time);\n",
    "CREATE INDEX idx_workout_logs_user_time ON workout_logs(user_id, start_time);\n",
    "CREATE INDEX idx_water_logs_user_time ON water_logs(user_id, log_time);\n",
    "CREATE INDEX idx_sleep_logs_user_time ON sleep_logs(user_id, sleep_start);\n",
    "\n",
    "-- Foreign key indexes\n",
    "CREATE INDEX idx_meal_items_meal_log ON meal_items(meal_log_id);\n",
    "CREATE INDEX idx_workout_exercises_workout ON workout_exercises(workout_log_id);\n",
    "CREATE INDEX idx_exercises_category ON exercises(category_id);\n",
    "\n",
    "-- Full-text search indexes\n",
    "CREATE INDEX idx_exercises_name_trgm ON exercises USING gin (name gin_trgm_ops);\n",
    "CREATE INDEX idx_exercises_muscle_group_trgm ON exercises USING gin (muscle_group gin_trgm_ops);\n",
    "\n",
    "-- JSONB indexes\n",
    "CREATE INDEX idx_users_preferences ON users USING gin (preferences);\n",
    "CREATE INDEX idx_sleep_logs_stages ON sleep_logs USING gin (sleep_stages);"
   ]
  }
 ],
 "metadata": {
  "language_info": {
   "name": "python"
  }
 },
 "nbformat": 4,
 "nbformat_minor": 2
}
