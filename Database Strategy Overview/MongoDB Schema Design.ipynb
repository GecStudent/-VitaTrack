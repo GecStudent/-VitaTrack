{
 "cells": [
  {
   "cell_type": "markdown",
   "metadata": {},
   "source": [
    "# MongoDB Schema Design\n"
   ]
  },
  {
   "cell_type": "markdown",
   "metadata": {},
   "source": [
    "## Collections Overview\n",
    "[mongodb-collections (1).mermaid](<mongodb-collections (1).mermaid>)"
   ]
  },
  {
   "cell_type": "markdown",
   "metadata": {},
   "source": [
    "# MongoDB Collection Schemas\n",
    "# (JS Files)"
   ]
  },
  {
   "cell_type": "markdown",
   "metadata": {},
   "source": [
    "## 1. Foods Collection"
   ]
  },
  {
   "cell_type": "code",
   "execution_count": null,
   "metadata": {
    "vscode": {
     "languageId": "plaintext"
    }
   },
   "outputs": [],
   "source": [
    "// foods collection\n",
    "{\n",
    "  \"_id\": ObjectId,\n",
    "  \"name\": String,\n",
    "  \"description\": String,\n",
    "  \"brand\": String,\n",
    "  \"barcode\": String,\n",
    "  \"categories\": [String],\n",
    "  \"tags\": [String],\n",
    "  \"serving_sizes\": [\n",
    "    {\n",
    "      \"size\": Number,\n",
    "      \"unit\": String,\n",
    "      \"weight_g\": Number\n",
    "    }\n",
    "  ],\n",
    "  \"nutrition_per_100g\": {\n",
    "    \"calories\": Number,\n",
    "    \"protein_g\": Number,\n",
    "    \"carbs_g\": Number,\n",
    "    \"fat_g\": Number,\n",
    "    \"saturated_fat_g\": Number,\n",
    "    \"trans_fat_g\": Number,\n",
    "    \"polyunsaturated_fat_g\": Number,\n",
    "    \"monounsaturated_fat_g\": Number,\n",
    "    \"cholesterol_mg\": Number,\n",
    "    \"sodium_mg\": Number,\n",
    "    \"potassium_mg\": Number,\n",
    "    \"fiber_g\": Number,\n",
    "    \"sugar_g\": Number,\n",
    "    \"added_sugar_g\": Number,\n",
    "    \"vitamin_a_iu\": Number,\n",
    "    \"vitamin_c_mg\": Number,\n",
    "    \"calcium_mg\": Number,\n",
    "    \"iron_mg\": Number,\n",
    "    \"vitamin_d_iu\": Number,\n",
    "    \"vitamin_e_mg\": Number,\n",
    "    \"vitamin_k_mcg\": Number,\n",
    "    \"thiamin_mg\": Number,\n",
    "    \"riboflavin_mg\": Number,\n",
    "    \"niacin_mg\": Number,\n",
    "    \"vitamin_b6_mg\": Number,\n",
    "    \"folate_mcg\": Number,\n",
    "    \"vitamin_b12_mcg\": Number,\n",
    "    \"biotin_mcg\": Number,\n",
    "    \"pantothenic_acid_mg\": Number,\n",
    "    \"phosphorus_mg\": Number,\n",
    "    \"iodine_mcg\": Number,\n",
    "    \"magnesium_mg\": Number,\n",
    "    \"zinc_mg\": Number,\n",
    "    \"selenium_mcg\": Number,\n",
    "    \"copper_mg\": Number,\n",
    "    \"manganese_mg\": Number,\n",
    "    \"chromium_mcg\": Number,\n",
    "    \"molybdenum_mcg\": Number,\n",
    "    \"chloride_mg\": Number\n",
    "  },\n",
    "  \"allergens\": [String],\n",
    "  \"ingredients\": String,\n",
    "  \"image_url\": String,\n",
    "  \"verified\": Boolean,\n",
    "  \"source\": String,\n",
    "  \"created_at\": Date,\n",
    "  \"updated_at\": Date\n",
    "}"
   ]
  },
  {
   "cell_type": "markdown",
   "metadata": {},
   "source": [
    "## 2. Recipes Collection"
   ]
  },
  {
   "cell_type": "code",
   "execution_count": null,
   "metadata": {
    "vscode": {
     "languageId": "plaintext"
    }
   },
   "outputs": [],
   "source": [
    "// recipes collection\n",
    "{\n",
    "  \"_id\": ObjectId,\n",
    "  \"name\": String,\n",
    "  \"description\": String,\n",
    "  \"author\": String,\n",
    "  \"author_id\": String,  // Could be a user ID\n",
    "  \"categories\": [String],\n",
    "  \"tags\": [String],\n",
    "  \"prep_time_minutes\": Number,\n",
    "  \"cook_time_minutes\": Number,\n",
    "  \"servings\": Number,\n",
    "  \"ingredients\": [\n",
    "    {\n",
    "      \"food_id\": String,  // Reference to foods collection\n",
    "      \"name\": String,\n",
    "      \"amount\": Number,\n",
    "      \"unit\": String,\n",
    "      \"notes\": String\n",
    "    }\n",
    "  ],\n",
    "  \"instructions\": [String],\n",
    "  \"nutrition_per_serving\": {\n",
    "    \"calories\": Number,\n",
    "    \"protein_g\": Number,\n",
    "    \"carbs_g\": Number,\n",
    "    \"fat_g\": Number,\n",
    "    // Other nutrition fields similar to foods collection\n",
    "  },\n",
    "  \"image_url\": String,\n",
    "  \"difficulty\": String,\n",
    "  \"is_public\": Boolean,\n",
    "  \"rating\": Number,\n",
    "  \"review_count\": Number,\n",
    "  \"created_at\": Date,\n",
    "  \"updated_at\": Date\n",
    "}"
   ]
  },
  {
   "cell_type": "markdown",
   "metadata": {},
   "source": [
    "## 3. User Custom Foods Collection"
   ]
  },
  {
   "cell_type": "code",
   "execution_count": null,
   "metadata": {
    "vscode": {
     "languageId": "plaintext"
    }
   },
   "outputs": [],
   "source": [
    "// user_custom_foods collection\n",
    "{\n",
    "  \"_id\": ObjectId,\n",
    "  \"user_id\": String,  // Reference to PostgreSQL users table\n",
    "  \"name\": String,\n",
    "  \"description\": String,\n",
    "  \"serving_sizes\": [\n",
    "    {\n",
    "      \"size\": Number,\n",
    "      \"unit\": String,\n",
    "      \"weight_g\": Number\n",
    "    }\n",
    "  ],\n",
    "  \"nutrition_per_100g\": {\n",
    "    \"calories\": Number,\n",
    "    \"protein_g\": Number,\n",
    "    \"carbs_g\": Number,\n",
    "    \"fat_g\": Number,\n",
    "    // Other nutrition fields\n",
    "  },\n",
    "  \"is_recipe\": Boolean,\n",
    "  \"recipe_id\": String,  // Optional reference to recipes collection\n",
    "  \"created_at\": Date,\n",
    "  \"updated_at\": Date\n",
    "}"
   ]
  },
  {
   "cell_type": "markdown",
   "metadata": {},
   "source": [
    "## 4. Restaurant Foods Collection"
   ]
  },
  {
   "cell_type": "code",
   "execution_count": null,
   "metadata": {
    "vscode": {
     "languageId": "plaintext"
    }
   },
   "outputs": [],
   "source": [
    "// restaurant_foods collection\n",
    "{\n",
    "  \"_id\": ObjectId,\n",
    "  \"restaurant_name\": String,\n",
    "  \"restaurant_chain\": String,\n",
    "  \"item_name\": String,\n",
    "  \"description\": String,\n",
    "  \"categories\": [String],\n",
    "  \"serving_size\": {\n",
    "    \"size\": Number,\n",
    "    \"unit\": String,\n",
    "    \"weight_g\": Number\n",
    "  },\n",
    "  \"nutrition\": {\n",
    "    \"calories\": Number,\n",
    "    \"protein_g\": Number,\n",
    "    \"carbs_g\": Number,\n",
    "    \"fat_g\": Number,\n",
    "    // Other nutrition fields\n",
    "  },\n",
    "  \"allergens\": [String],\n",
    "  \"ingredients\": String,\n",
    "  \"image_url\": String,\n",
    "  \"verified\": Boolean,\n",
    "  \"source\": String,\n",
    "  \"created_at\": Date,\n",
    "  \"updated_at\": Date\n",
    "}"
   ]
  },
  {
   "cell_type": "markdown",
   "metadata": {},
   "source": [
    "## 5. Nutrition Logs Collection (Aggregated Data)"
   ]
  },
  {
   "cell_type": "code",
   "execution_count": null,
   "metadata": {
    "vscode": {
     "languageId": "plaintext"
    }
   },
   "outputs": [],
   "source": [
    "// nutrition_logs collection\n",
    "{\n",
    "  \"_id\": ObjectId,\n",
    "  \"user_id\": String,  // Reference to PostgreSQL users table\n",
    "  \"date\": Date,\n",
    "  \"daily_totals\": {\n",
    "    \"calories\": Number,\n",
    "    \"protein_g\": Number,\n",
    "    \"carbs_g\": Number,\n",
    "    \"fat_g\": Number,\n",
    "    \"fiber_g\": Number,\n",
    "    \"sugar_g\": Number,\n",
    "    \"sodium_mg\": Number,\n",
    "    // Other aggregated nutrition fields\n",
    "  },\n",
    "  \"meal_breakdown\": {\n",
    "    \"breakfast\": {\n",
    "      \"calories\": Number,\n",
    "      \"protein_g\": Number,\n",
    "      // Other nutrition fields\n",
    "    },\n",
    "    \"lunch\": {\n",
    "      \"calories\": Number,\n",
    "      \"protein_g\": Number,\n",
    "      // Other nutrition fields\n",
    "    },\n",
    "    \"dinner\": {\n",
    "      \"calories\": Number,\n",
    "      \"protein_g\": Number,\n",
    "      // Other nutrition fields\n",
    "    },\n",
    "    \"snacks\": {\n",
    "      \"calories\": Number,\n",
    "      \"protein_g\": Number,\n",
    "      // Other nutrition fields\n",
    "    }\n",
    "  },\n",
    "  \"target_comparison\": {\n",
    "    \"calories\": {\n",
    "      \"target\": Number,\n",
    "      \"actual\": Number,\n",
    "      \"percentage\": Number\n",
    "    },\n",
    "    \"protein_g\": {\n",
    "      \"target\": Number,\n",
    "      \"actual\": Number,\n",
    "      \"percentage\": Number\n",
    "    },\n",
    "    // Other target comparisons\n",
    "  },\n",
    "  \"created_at\": Date,\n",
    "  \"updated_at\": Date\n",
    "}"
   ]
  },
  {
   "cell_type": "markdown",
   "metadata": {},
   "source": [
    "## 6. Analytics Collection (Aggregated Data)"
   ]
  },
  {
   "cell_type": "code",
   "execution_count": null,
   "metadata": {
    "vscode": {
     "languageId": "plaintext"
    }
   },
   "outputs": [],
   "source": [
    "// analytics collection\n",
    "{\n",
    "  \"_id\": ObjectId,\n",
    "  \"user_id\": String,  // Reference to PostgreSQL users table\n",
    "  \"period_type\": String,  // \"week\", \"month\", \"quarter\", \"year\"\n",
    "  \"period_start\": Date,\n",
    "  \"period_end\": Date,\n",
    "  \"nutrition_averages\": {\n",
    "    \"calories\": Number,\n",
    "    \"protein_g\": Number,\n",
    "    \"carbs_g\": Number,\n",
    "    \"fat_g\": Number,\n",
    "    // Other nutrition averages\n",
    "  },\n",
    "  \"exercise_totals\": {\n",
    "    \"workouts\": Number,\n",
    "    \"duration_minutes\": Number,\n",
    "    \"calories_burned\": Number,\n",
    "    \"by_category\": {\n",
    "      \"strength\": Number,\n",
    "      \"cardio\": Number,\n",
    "      \"flexibility\": Number,\n",
    "      // Other categories\n",
    "    }\n",
    "  },\n",
    "  \"weight_change\": {\n",
    "    \"start_kg\": Number,\n",
    "    \"end_kg\": Number,\n",
    "    \"change_kg\": Number,\n",
    "    \"change_percentage\": Number\n",
    "  },\n",
    "  \"goal_progress\": {\n",
    "    \"goal_id\": String,  // Reference to PostgreSQL goals table\n",
    "    \"progress_percentage\": Number,\n",
    "    \"trend\": String  // \"on_track\", \"ahead\", \"behind\"\n",
    "  },\n",
    "  \"sleep_averages\": {\n",
    "    \"duration_hours\": Number,\n",
    "    \"quality_score\": Number\n",
    "  },\n",
    "  \"water_intake_average_ml\": Number,\n",
    "  \"created_at\": Date\n",
    "}"
   ]
  },
  {
   "cell_type": "markdown",
   "metadata": {},
   "source": [
    "## MongoDB Indexes"
   ]
  },
  {
   "cell_type": "code",
   "execution_count": null,
   "metadata": {
    "vscode": {
     "languageId": "plaintext"
    }
   },
   "outputs": [],
   "source": [
    "// Foods collection indexes\n",
    "db.foods.createIndex({ \"name\": \"text\", \"description\": \"text\", \"brand\": \"text\" });\n",
    "db.foods.createIndex({ \"barcode\": 1 }, { unique: true, sparse: true });\n",
    "db.foods.createIndex({ \"categories\": 1 });\n",
    "db.foods.createIndex({ \"tags\": 1 });\n",
    "db.foods.createIndex({ \"brand\": 1 });\n",
    "\n",
    "// Recipes collection indexes\n",
    "db.recipes.createIndex({ \"name\": \"text\", \"description\": \"text\" });\n",
    "db.recipes.createIndex({ \"author_id\": 1 });\n",
    "db.recipes.createIndex({ \"categories\": 1 });\n",
    "db.recipes.createIndex({ \"tags\": 1 });\n",
    "db.recipes.createIndex({ \"is_public\": 1 });\n",
    "\n",
    "// User custom foods collection indexes\n",
    "db.user_custom_foods.createIndex({ \"user_id\": 1 });\n",
    "db.user_custom_foods.createIndex({ \"name\": \"text\" });\n",
    "db.user_custom_foods.createIndex({ \"user_id\": 1, \"name\": 1 });\n",
    "\n",
    "// Restaurant foods collection indexes\n",
    "db.restaurant_foods.createIndex({ \"restaurant_name\": 1 });\n",
    "db.restaurant_foods.createIndex({ \"restaurant_chain\": 1 });\n",
    "db.restaurant_foods.createIndex({ \"item_name\": \"text\" });\n",
    "\n",
    "// Nutrition logs collection indexes\n",
    "db.nutrition_logs.createIndex({ \"user_id\": 1, \"date\": 1 }, { unique: true });\n",
    "db.nutrition_logs.createIndex({ \"user_id\": 1, \"date\": -1 });\n",
    "\n",
    "// Analytics collection indexes\n",
    "db.analytics.createIndex({ \"user_id\": 1, \"period_type\": 1, \"period_start\": 1 }, { unique: true });\n",
    "db.analytics.createIndex({ \"user_id\": 1, \"period_end\": -1 });"
   ]
  }
 ],
 "metadata": {
  "language_info": {
   "name": "python"
  }
 },
 "nbformat": 4,
 "nbformat_minor": 2
}
