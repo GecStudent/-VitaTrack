{
 "cells": [
  {
   "cell_type": "markdown",
   "metadata": {},
   "source": [
    "## 6. API Endpoints\n"
   ]
  },
  {
   "cell_type": "markdown",
   "metadata": {},
   "source": [
    "### Authentication Endpoints"
   ]
  },
  {
   "cell_type": "code",
   "execution_count": null,
   "metadata": {
    "vscode": {
     "languageId": "plaintext"
    }
   },
   "outputs": [],
   "source": [
    "POST /api/auth/register - Register a new user\n",
    "POST /api/auth/login - Login user\n",
    "POST /api/auth/logout - Logout user\n",
    "POST /api/auth/refresh-token - Refresh JWT token\n",
    "POST /api/auth/forgot-password - Request password reset\n",
    "POST /api/auth/reset-password - Reset password\n",
    "POST /api/auth/verify-email - Verify email address\n",
    "GET /api/auth/me - Get current user info\n",
    "POST /api/auth/mfa/enable - Enable multi-factor authentication\n",
    "POST /api/auth/mfa/verify - Verify MFA code\n",
    "POST /api/auth/social/:provider - Social login (Google, Facebook, Apple)"
   ]
  },
  {
   "cell_type": "markdown",
   "metadata": {},
   "source": [
    "### User Endpoints"
   ]
  },
  {
   "cell_type": "code",
   "execution_count": null,
   "metadata": {
    "vscode": {
     "languageId": "plaintext"
    }
   },
   "outputs": [],
   "source": [
    "GET /api/users/profile - Get user profile\n",
    "PUT /api/users/profile - Update user profile\n",
    "PUT /api/users/settings - Update user settings\n",
    "GET /api/users/preferences - Get user preferences\n",
    "PUT /api/users/preferences - Update user preferences"
   ]
  },
  {
   "cell_type": "markdown",
   "metadata": {},
   "source": [
    "### Food Tracking Endpoints"
   ]
  },
  {
   "cell_type": "code",
   "execution_count": null,
   "metadata": {
    "vscode": {
     "languageId": "plaintext"
    }
   },
   "outputs": [],
   "source": [
    "GET /api/foods/search - Search food database\n",
    "GET /api/foods/:id - Get food details\n",
    "POST /api/foods/custom - Create custom food\n",
    "GET /api/foods/barcode/:code - Get food by barcode\n",
    "POST /api/foods/image - Identify food from image\n",
    "\n",
    "GET /api/meals - Get user meals\n",
    "POST /api/meals - Log a meal\n",
    "GET /api/meals/:id - Get meal details\n",
    "PUT /api/meals/:id - Update meal\n",
    "DELETE /api/meals/:id - Delete meal\n",
    "\n",
    "GET /api/water - Get water logs\n",
    "POST /api/water - Log water intake\n",
    "PUT /api/water/:id - Update water log\n",
    "DELETE /api/water/:id - Delete water log"
   ]
  },
  {
   "cell_type": "markdown",
   "metadata": {},
   "source": [
    "\n",
    "### Exercise Tracking Endpoints"
   ]
  },
  {
   "cell_type": "code",
   "execution_count": null,
   "metadata": {
    "vscode": {
     "languageId": "plaintext"
    }
   },
   "outputs": [],
   "source": [
    "GET /api/exercises - Get exercise library\n",
    "GET /api/exercises/:id - Get exercise details\n",
    "POST /api/exercises/custom - Create custom exercise\n",
    "\n",
    "GET /api/workouts - Get user workouts\n",
    "POST /api/workouts - Log a workout\n",
    "GET /api/workouts/:id - Get workout details\n",
    "PUT /api/workouts/:id - Update workout\n",
    "DELETE /api/workouts/:id - Delete workout\n",
    "\n",
    "GET /api/activities - Get activity logs\n",
    "POST /api/activities - Log an activity\n",
    "PUT /api/activities/:id - Update activity\n",
    "DELETE /api/activities/:id - Delete activity"
   ]
  },
  {
   "cell_type": "markdown",
   "metadata": {},
   "source": [
    "### Goal & Progress Endpoints"
   ]
  },
  {
   "cell_type": "code",
   "execution_count": null,
   "metadata": {
    "vscode": {
     "languageId": "plaintext"
    }
   },
   "outputs": [],
   "source": [
    "GET /api/goals - Get user goals\n",
    "POST /api/goals - Create a goal\n",
    "GET /api/goals/:id - Get goal details\n",
    "PUT /api/goals/:id - Update goal\n",
    "DELETE /api/goals/:id - Delete goal\n",
    "\n",
    "GET /api/progress/weight - Get weight logs\n",
    "POST /api/progress/weight - Log weight\n",
    "PUT /api/progress/weight/:id - Update weight log\n",
    "DELETE /api/progress/weight/:id - Delete weight log\n",
    "\n",
    "GET /api/progress/measurements - Get body measurements\n",
    "POST /api/progress/measurements - Log measurements\n",
    "PUT /api/progress/measurements/:id - Update measurements\n",
    "DELETE /api/progress/measurements/:id - Delete measurements"
   ]
  },
  {
   "cell_type": "markdown",
   "metadata": {},
   "source": [
    "### Analytics & Reports Endpoints"
   ]
  },
  {
   "cell_type": "code",
   "execution_count": null,
   "metadata": {
    "vscode": {
     "languageId": "plaintext"
    }
   },
   "outputs": [],
   "source": [
    "GET /api/analytics/summary - Get daily summary\n",
    "GET /api/analytics/nutrition - Get nutrition analytics\n",
    "GET /api/analytics/exercise - Get exercise analytics\n",
    "GET /api/analytics/weight - Get weight analytics\n",
    "GET /api/analytics/sleep - Get sleep analytics\n",
    "\n",
    "GET /api/reports/daily/:date - Get daily report\n",
    "GET /api/reports/weekly/:startDate - Get weekly report\n",
    "GET /api/reports/monthly/:month - Get monthly report\n",
    "GET /api/reports/custom/:startDate/:endDate - Get custom period report"
   ]
  },
  {
   "cell_type": "markdown",
   "metadata": {},
   "source": [
    "### AI Recommendation Endpoints"
   ]
  },
  {
   "cell_type": "code",
   "execution_count": null,
   "metadata": {
    "vscode": {
     "languageId": "plaintext"
    }
   },
   "outputs": [],
   "source": [
    "GET /api/recommendations/meals - Get meal recommendations\n",
    "GET /api/recommendations/exercises - Get exercise recommendations\n",
    "GET /api/recommendations/goals - Get goal adjustment recommendations\n",
    "GET /api/recommendations/insights - Get health insights"
   ]
  }
 ],
 "metadata": {
  "language_info": {
   "name": "python"
  }
 },
 "nbformat": 4,
 "nbformat_minor": 2
}
